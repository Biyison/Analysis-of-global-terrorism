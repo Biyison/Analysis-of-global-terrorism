{
 "cells": [
  {
   "cell_type": "markdown",
   "id": "d3c2c276",
   "metadata": {},
   "source": [
    "# <font color= 'blue'>Exploratory Data Analysis on Birmingham House Prices</font>\n",
    "\n",
    "## Enoch A. Akinpelu (PhD, CEng, MIChemE)"
   ]
  },
  {
   "cell_type": "markdown",
   "id": "93f207a4",
   "metadata": {},
   "source": [
    "## Importing important libraries for analysis"
   ]
  },
  {
   "cell_type": "code",
   "execution_count": 1,
   "id": "f908a05f",
   "metadata": {},
   "outputs": [],
   "source": [
    "import pandas as pd\n",
    "import numpy as np"
   ]
  },
  {
   "cell_type": "markdown",
   "id": "dbd01fa6",
   "metadata": {},
   "source": [
    "## Data collection"
   ]
  },
  {
   "cell_type": "code",
   "execution_count": 2,
   "id": "e26e9620",
   "metadata": {},
   "outputs": [],
   "source": [
    "# Read the csv dataset using pandas\n",
    "df = pd.read_csv('prices.csv')"
   ]
  },
  {
   "cell_type": "markdown",
   "id": "5b73b201",
   "metadata": {},
   "source": [
    "## Checking for data types"
   ]
  },
  {
   "cell_type": "code",
   "execution_count": 3,
   "id": "c35af067",
   "metadata": {},
   "outputs": [
    {
     "name": "stdout",
     "output_type": "stream",
     "text": [
      "unique_id               object\n",
      "price_paid               int64\n",
      "deed_date               object\n",
      "postcode                object\n",
      "property_type           object\n",
      "new_build               object\n",
      "estate_type             object\n",
      "saon                    object\n",
      "paon                    object\n",
      "street                  object\n",
      "locality                object\n",
      "district                object\n",
      "county                  object\n",
      "transaction_category    object\n",
      "dtype: object\n"
     ]
    }
   ],
   "source": [
    "# Get the data type for each column\n",
    "print(df.dtypes)"
   ]
  },
  {
   "cell_type": "markdown",
   "id": "e2e7270d",
   "metadata": {},
   "source": [
    "### <font color = 'red'>We have 13 object data types and one integer in the dataset</font>"
   ]
  },
  {
   "cell_type": "markdown",
   "id": "643b562f",
   "metadata": {},
   "source": [
    "## Examining the first 5 rows of the data"
   ]
  },
  {
   "cell_type": "code",
   "execution_count": 4,
   "id": "7db1c49b",
   "metadata": {},
   "outputs": [
    {
     "data": {
      "text/html": [
       "<div>\n",
       "<style scoped>\n",
       "    .dataframe tbody tr th:only-of-type {\n",
       "        vertical-align: middle;\n",
       "    }\n",
       "\n",
       "    .dataframe tbody tr th {\n",
       "        vertical-align: top;\n",
       "    }\n",
       "\n",
       "    .dataframe thead th {\n",
       "        text-align: right;\n",
       "    }\n",
       "</style>\n",
       "<table border=\"1\" class=\"dataframe\">\n",
       "  <thead>\n",
       "    <tr style=\"text-align: right;\">\n",
       "      <th></th>\n",
       "      <th>unique_id</th>\n",
       "      <th>price_paid</th>\n",
       "      <th>deed_date</th>\n",
       "      <th>postcode</th>\n",
       "      <th>property_type</th>\n",
       "      <th>new_build</th>\n",
       "      <th>estate_type</th>\n",
       "      <th>saon</th>\n",
       "      <th>paon</th>\n",
       "      <th>street</th>\n",
       "      <th>locality</th>\n",
       "      <th>district</th>\n",
       "      <th>county</th>\n",
       "      <th>transaction_category</th>\n",
       "    </tr>\n",
       "  </thead>\n",
       "  <tbody>\n",
       "    <tr>\n",
       "      <th>0</th>\n",
       "      <td>30271714-703B-4D25-9ACA-E949676BB7AF</td>\n",
       "      <td>54000</td>\n",
       "      <td>01/01/1995</td>\n",
       "      <td>B29 7NS</td>\n",
       "      <td>T</td>\n",
       "      <td>N</td>\n",
       "      <td>F</td>\n",
       "      <td>NaN</td>\n",
       "      <td>38</td>\n",
       "      <td>FIRST AVENUE</td>\n",
       "      <td>SELLY PARK</td>\n",
       "      <td>BIRMINGHAM</td>\n",
       "      <td>WEST MIDLANDS</td>\n",
       "      <td>A</td>\n",
       "    </tr>\n",
       "    <tr>\n",
       "      <th>1</th>\n",
       "      <td>A7A688D7-15EB-4C90-B2B6-8268A9E5CEEF</td>\n",
       "      <td>37000</td>\n",
       "      <td>01/01/1995</td>\n",
       "      <td>B31 5DF</td>\n",
       "      <td>S</td>\n",
       "      <td>N</td>\n",
       "      <td>F</td>\n",
       "      <td>NaN</td>\n",
       "      <td>83</td>\n",
       "      <td>JOSIAH ROAD</td>\n",
       "      <td>BIRMINGHAM</td>\n",
       "      <td>BIRMINGHAM</td>\n",
       "      <td>WEST MIDLANDS</td>\n",
       "      <td>A</td>\n",
       "    </tr>\n",
       "    <tr>\n",
       "      <th>2</th>\n",
       "      <td>EBBF45BD-BB6B-4944-8DE2-50FC8F8311F0</td>\n",
       "      <td>165500</td>\n",
       "      <td>01/01/1995</td>\n",
       "      <td>B45 8LY</td>\n",
       "      <td>D</td>\n",
       "      <td>N</td>\n",
       "      <td>F</td>\n",
       "      <td>NaN</td>\n",
       "      <td>BITTELL COTTAGE, 76</td>\n",
       "      <td>BITTELL ROAD</td>\n",
       "      <td>BARNT GREEN</td>\n",
       "      <td>BROMSGROVE</td>\n",
       "      <td>WORCESTERSHIRE</td>\n",
       "      <td>A</td>\n",
       "    </tr>\n",
       "    <tr>\n",
       "      <th>3</th>\n",
       "      <td>B819DB02-6562-473B-AFA1-81B60787C2A7</td>\n",
       "      <td>24000</td>\n",
       "      <td>02/01/1995</td>\n",
       "      <td>B29 5TW</td>\n",
       "      <td>T</td>\n",
       "      <td>N</td>\n",
       "      <td>F</td>\n",
       "      <td>NaN</td>\n",
       "      <td>358</td>\n",
       "      <td>ALWOLD ROAD</td>\n",
       "      <td>BIRMINGHAM</td>\n",
       "      <td>BIRMINGHAM</td>\n",
       "      <td>WEST MIDLANDS</td>\n",
       "      <td>A</td>\n",
       "    </tr>\n",
       "    <tr>\n",
       "      <th>4</th>\n",
       "      <td>91A7BA4B-849C-4CAD-A112-C26597578CC0</td>\n",
       "      <td>33000</td>\n",
       "      <td>02/01/1995</td>\n",
       "      <td>B44 8SA</td>\n",
       "      <td>T</td>\n",
       "      <td>N</td>\n",
       "      <td>F</td>\n",
       "      <td>NaN</td>\n",
       "      <td>155</td>\n",
       "      <td>BIRDBROOK ROAD</td>\n",
       "      <td>BIRMINGHAM</td>\n",
       "      <td>BIRMINGHAM</td>\n",
       "      <td>WEST MIDLANDS</td>\n",
       "      <td>A</td>\n",
       "    </tr>\n",
       "  </tbody>\n",
       "</table>\n",
       "</div>"
      ],
      "text/plain": [
       "                              unique_id  price_paid   deed_date postcode  \\\n",
       "0  30271714-703B-4D25-9ACA-E949676BB7AF       54000  01/01/1995  B29 7NS   \n",
       "1  A7A688D7-15EB-4C90-B2B6-8268A9E5CEEF       37000  01/01/1995  B31 5DF   \n",
       "2  EBBF45BD-BB6B-4944-8DE2-50FC8F8311F0      165500  01/01/1995  B45 8LY   \n",
       "3  B819DB02-6562-473B-AFA1-81B60787C2A7       24000  02/01/1995  B29 5TW   \n",
       "4  91A7BA4B-849C-4CAD-A112-C26597578CC0       33000  02/01/1995  B44 8SA   \n",
       "\n",
       "  property_type new_build estate_type saon                 paon  \\\n",
       "0             T         N           F  NaN                   38   \n",
       "1             S         N           F  NaN                   83   \n",
       "2             D         N           F  NaN  BITTELL COTTAGE, 76   \n",
       "3             T         N           F  NaN                  358   \n",
       "4             T         N           F  NaN                  155   \n",
       "\n",
       "           street     locality    district          county  \\\n",
       "0    FIRST AVENUE   SELLY PARK  BIRMINGHAM   WEST MIDLANDS   \n",
       "1     JOSIAH ROAD   BIRMINGHAM  BIRMINGHAM   WEST MIDLANDS   \n",
       "2    BITTELL ROAD  BARNT GREEN  BROMSGROVE  WORCESTERSHIRE   \n",
       "3     ALWOLD ROAD   BIRMINGHAM  BIRMINGHAM   WEST MIDLANDS   \n",
       "4  BIRDBROOK ROAD   BIRMINGHAM  BIRMINGHAM   WEST MIDLANDS   \n",
       "\n",
       "  transaction_category  \n",
       "0                    A  \n",
       "1                    A  \n",
       "2                    A  \n",
       "3                    A  \n",
       "4                    A  "
      ]
     },
     "execution_count": 4,
     "metadata": {},
     "output_type": "execute_result"
    }
   ],
   "source": [
    "# Display the first 5 rows\n",
    "df.head()"
   ]
  },
  {
   "cell_type": "markdown",
   "id": "414e46a2",
   "metadata": {},
   "source": [
    "## Statistical description of the data"
   ]
  },
  {
   "cell_type": "code",
   "execution_count": 5,
   "id": "971817b7",
   "metadata": {},
   "outputs": [
    {
     "data": {
      "text/html": [
       "<div>\n",
       "<style scoped>\n",
       "    .dataframe tbody tr th:only-of-type {\n",
       "        vertical-align: middle;\n",
       "    }\n",
       "\n",
       "    .dataframe tbody tr th {\n",
       "        vertical-align: top;\n",
       "    }\n",
       "\n",
       "    .dataframe thead th {\n",
       "        text-align: right;\n",
       "    }\n",
       "</style>\n",
       "<table border=\"1\" class=\"dataframe\">\n",
       "  <thead>\n",
       "    <tr style=\"text-align: right;\">\n",
       "      <th></th>\n",
       "      <th>price_paid</th>\n",
       "    </tr>\n",
       "  </thead>\n",
       "  <tbody>\n",
       "    <tr>\n",
       "      <th>count</th>\n",
       "      <td>3.709740e+05</td>\n",
       "    </tr>\n",
       "    <tr>\n",
       "      <th>mean</th>\n",
       "      <td>1.406826e+05</td>\n",
       "    </tr>\n",
       "    <tr>\n",
       "      <th>std</th>\n",
       "      <td>6.702640e+05</td>\n",
       "    </tr>\n",
       "    <tr>\n",
       "      <th>min</th>\n",
       "      <td>1.000000e+00</td>\n",
       "    </tr>\n",
       "    <tr>\n",
       "      <th>25%</th>\n",
       "      <td>6.600000e+04</td>\n",
       "    </tr>\n",
       "    <tr>\n",
       "      <th>50%</th>\n",
       "      <td>1.100000e+05</td>\n",
       "    </tr>\n",
       "    <tr>\n",
       "      <th>75%</th>\n",
       "      <td>1.580000e+05</td>\n",
       "    </tr>\n",
       "    <tr>\n",
       "      <th>max</th>\n",
       "      <td>1.381500e+08</td>\n",
       "    </tr>\n",
       "  </tbody>\n",
       "</table>\n",
       "</div>"
      ],
      "text/plain": [
       "         price_paid\n",
       "count  3.709740e+05\n",
       "mean   1.406826e+05\n",
       "std    6.702640e+05\n",
       "min    1.000000e+00\n",
       "25%    6.600000e+04\n",
       "50%    1.100000e+05\n",
       "75%    1.580000e+05\n",
       "max    1.381500e+08"
      ]
     },
     "execution_count": 5,
     "metadata": {},
     "output_type": "execute_result"
    }
   ],
   "source": [
    "# Get the summary statistics for the dataset\n",
    "df.describe()"
   ]
  },
  {
   "cell_type": "markdown",
   "id": "6cc4234e",
   "metadata": {},
   "source": [
    "## Shape of the data"
   ]
  },
  {
   "cell_type": "code",
   "execution_count": 6,
   "id": "b43ccc74",
   "metadata": {},
   "outputs": [
    {
     "data": {
      "text/plain": [
       "(370974, 14)"
      ]
     },
     "execution_count": 6,
     "metadata": {},
     "output_type": "execute_result"
    }
   ],
   "source": [
    "# Shape of the dataset\n",
    "df.shape"
   ]
  },
  {
   "cell_type": "markdown",
   "id": "db153591",
   "metadata": {},
   "source": [
    "### <font color = 'red'>We have a total of 370,974 rows and 14 columns</font> "
   ]
  },
  {
   "cell_type": "markdown",
   "id": "eb673689",
   "metadata": {},
   "source": [
    "## Check for duplicate rows"
   ]
  },
  {
   "cell_type": "code",
   "execution_count": 7,
   "id": "4add5730",
   "metadata": {},
   "outputs": [
    {
     "name": "stdout",
     "output_type": "stream",
     "text": [
      "Number of duplicate rows before dropping: 0\n"
     ]
    }
   ],
   "source": [
    "# Check for duplicate rows\n",
    "print('Number of duplicate rows before dropping:', df.duplicated().sum())"
   ]
  },
  {
   "cell_type": "markdown",
   "id": "f295d850",
   "metadata": {},
   "source": [
    "### <font color = 'red'>There are no duplicate rows in the data.</font>"
   ]
  },
  {
   "cell_type": "markdown",
   "id": "1a4a45dc",
   "metadata": {},
   "source": [
    "## Check for missing values"
   ]
  },
  {
   "cell_type": "code",
   "execution_count": 8,
   "id": "c7b2e6e4",
   "metadata": {},
   "outputs": [
    {
     "name": "stdout",
     "output_type": "stream",
     "text": [
      "unique_id                    0\n",
      "price_paid                   0\n",
      "deed_date                    0\n",
      "postcode                   362\n",
      "property_type                0\n",
      "new_build                    0\n",
      "estate_type                  0\n",
      "saon                    326369\n",
      "paon                         4\n",
      "street                     203\n",
      "locality                114628\n",
      "district                     0\n",
      "county                       0\n",
      "transaction_category         0\n",
      "dtype: int64\n"
     ]
    }
   ],
   "source": [
    "# Check for missing values\n",
    "print(df.isnull().sum())"
   ]
  },
  {
   "cell_type": "markdown",
   "id": "fa84e44b",
   "metadata": {},
   "source": [
    "### <font color = 'red'>There are missing values in five different columns of the dataset</font>"
   ]
  },
  {
   "cell_type": "markdown",
   "id": "fcef1e19",
   "metadata": {},
   "source": [
    "## Data cleaning/pre-processing"
   ]
  },
  {
   "cell_type": "code",
   "execution_count": 9,
   "id": "09410478",
   "metadata": {},
   "outputs": [],
   "source": [
    "# Remove the columns named unique id, saon, paon, street, locality, district and county.\n",
    "df.drop(['unique_id', 'saon', 'paon', 'street', 'locality', 'district', 'county'], axis=1, inplace=True)"
   ]
  },
  {
   "cell_type": "code",
   "execution_count": 10,
   "id": "2ae1cf35",
   "metadata": {},
   "outputs": [],
   "source": [
    "# Remove all the rows which have ‘O’ in the property type column\n",
    "df = df[df.property_type != 'O']"
   ]
  },
  {
   "cell_type": "code",
   "execution_count": 11,
   "id": "c50d8aaa",
   "metadata": {},
   "outputs": [],
   "source": [
    "# In the new build column, convert all of the ‘Y’s to 1 and all of the ‘N’s to 0.\n",
    "df['new_build'] = df['new_build'].apply(lambda x: 1 if x == 'Y' else 0)"
   ]
  },
  {
   "cell_type": "code",
   "execution_count": 12,
   "id": "ca5ac443",
   "metadata": {},
   "outputs": [],
   "source": [
    "# In the estate type column, convert all of the ‘F’s to 1 and all of the ‘L’s to 0.\n",
    "df['estate_type'] = df['estate_type'].apply(lambda x: 1 if x == 'F' else 0)"
   ]
  },
  {
   "cell_type": "code",
   "execution_count": 13,
   "id": "3c5f5b21",
   "metadata": {},
   "outputs": [],
   "source": [
    "# In the transaction category column, convert all of the ‘A’s to 1 and all of the ‘B’s to 0.\n",
    "df['transaction_category'] = df['transaction_category'].apply(lambda x: 1 if x == 'A' else 0)"
   ]
  },
  {
   "cell_type": "code",
   "execution_count": 14,
   "id": "d9bd73d8",
   "metadata": {},
   "outputs": [],
   "source": [
    "# Remove all of the rows which don’t have a postcode.\n",
    "df = df[df['postcode'].notna()]"
   ]
  },
  {
   "cell_type": "code",
   "execution_count": 15,
   "id": "b44dee65",
   "metadata": {},
   "outputs": [
    {
     "name": "stderr",
     "output_type": "stream",
     "text": [
      "C:\\Users\\Akinbiyi Akinpelu\\AppData\\Local\\Temp\\ipykernel_8944\\828257872.py:3: FutureWarning: The default value of regex will change from True to False in a future version.\n",
      "  df['PC'] = df['postcode'].str.replace(r'[^0-9]+', '')\n"
     ]
    }
   ],
   "source": [
    "# Now make a copy of the postcode column and name it ‘PC’. \n",
    "# For each element in ‘PC’ remove all the letters and spaces to yield a 2 or 3 digit number.\n",
    "df['PC'] = df['postcode'].str.replace(r'[^0-9]+', '')"
   ]
  },
  {
   "cell_type": "code",
   "execution_count": 16,
   "id": "a57bbfa9",
   "metadata": {},
   "outputs": [],
   "source": [
    "# Drop postcode column\n",
    "df.drop('postcode', axis=1, inplace=True)"
   ]
  },
  {
   "cell_type": "markdown",
   "id": "0389e7d1",
   "metadata": {},
   "source": [
    "## Examine updated Dataframe"
   ]
  },
  {
   "cell_type": "code",
   "execution_count": 17,
   "id": "a3d39b5a",
   "metadata": {},
   "outputs": [
    {
     "data": {
      "text/html": [
       "<div>\n",
       "<style scoped>\n",
       "    .dataframe tbody tr th:only-of-type {\n",
       "        vertical-align: middle;\n",
       "    }\n",
       "\n",
       "    .dataframe tbody tr th {\n",
       "        vertical-align: top;\n",
       "    }\n",
       "\n",
       "    .dataframe thead th {\n",
       "        text-align: right;\n",
       "    }\n",
       "</style>\n",
       "<table border=\"1\" class=\"dataframe\">\n",
       "  <thead>\n",
       "    <tr style=\"text-align: right;\">\n",
       "      <th></th>\n",
       "      <th>price_paid</th>\n",
       "      <th>deed_date</th>\n",
       "      <th>property_type</th>\n",
       "      <th>new_build</th>\n",
       "      <th>estate_type</th>\n",
       "      <th>transaction_category</th>\n",
       "      <th>PC</th>\n",
       "    </tr>\n",
       "  </thead>\n",
       "  <tbody>\n",
       "    <tr>\n",
       "      <th>0</th>\n",
       "      <td>54000</td>\n",
       "      <td>01/01/1995</td>\n",
       "      <td>T</td>\n",
       "      <td>0</td>\n",
       "      <td>1</td>\n",
       "      <td>1</td>\n",
       "      <td>297</td>\n",
       "    </tr>\n",
       "    <tr>\n",
       "      <th>1</th>\n",
       "      <td>37000</td>\n",
       "      <td>01/01/1995</td>\n",
       "      <td>S</td>\n",
       "      <td>0</td>\n",
       "      <td>1</td>\n",
       "      <td>1</td>\n",
       "      <td>315</td>\n",
       "    </tr>\n",
       "    <tr>\n",
       "      <th>2</th>\n",
       "      <td>165500</td>\n",
       "      <td>01/01/1995</td>\n",
       "      <td>D</td>\n",
       "      <td>0</td>\n",
       "      <td>1</td>\n",
       "      <td>1</td>\n",
       "      <td>458</td>\n",
       "    </tr>\n",
       "    <tr>\n",
       "      <th>3</th>\n",
       "      <td>24000</td>\n",
       "      <td>02/01/1995</td>\n",
       "      <td>T</td>\n",
       "      <td>0</td>\n",
       "      <td>1</td>\n",
       "      <td>1</td>\n",
       "      <td>295</td>\n",
       "    </tr>\n",
       "    <tr>\n",
       "      <th>4</th>\n",
       "      <td>33000</td>\n",
       "      <td>02/01/1995</td>\n",
       "      <td>T</td>\n",
       "      <td>0</td>\n",
       "      <td>1</td>\n",
       "      <td>1</td>\n",
       "      <td>448</td>\n",
       "    </tr>\n",
       "  </tbody>\n",
       "</table>\n",
       "</div>"
      ],
      "text/plain": [
       "   price_paid   deed_date property_type  new_build  estate_type  \\\n",
       "0       54000  01/01/1995             T          0            1   \n",
       "1       37000  01/01/1995             S          0            1   \n",
       "2      165500  01/01/1995             D          0            1   \n",
       "3       24000  02/01/1995             T          0            1   \n",
       "4       33000  02/01/1995             T          0            1   \n",
       "\n",
       "   transaction_category   PC  \n",
       "0                     1  297  \n",
       "1                     1  315  \n",
       "2                     1  458  \n",
       "3                     1  295  \n",
       "4                     1  448  "
      ]
     },
     "execution_count": 17,
     "metadata": {},
     "output_type": "execute_result"
    }
   ],
   "source": [
    "# display the updated dataframe\n",
    "df.head()"
   ]
  },
  {
   "cell_type": "code",
   "execution_count": 18,
   "id": "3ab17ce3",
   "metadata": {},
   "outputs": [
    {
     "data": {
      "text/plain": [
       "(366681, 7)"
      ]
     },
     "execution_count": 18,
     "metadata": {},
     "output_type": "execute_result"
    }
   ],
   "source": [
    "# New data shape\n",
    "df.shape"
   ]
  },
  {
   "cell_type": "markdown",
   "id": "75cc8af3",
   "metadata": {},
   "source": [
    "### <font color = 'red'>The dataset has been reduced to 366,681 rows and 7 columns after cleaning</font>"
   ]
  },
  {
   "cell_type": "markdown",
   "id": "de0118a9",
   "metadata": {},
   "source": [
    "## Converting deed_date to number of days since 1st January 1995"
   ]
  },
  {
   "cell_type": "code",
   "execution_count": 19,
   "id": "2db1d0bf",
   "metadata": {},
   "outputs": [],
   "source": [
    "# Define a function to convert a date in the form day/month/year to the number of days since 1st January 1995\n",
    "def days_since_1995(date_str):\n",
    "    # Parse the date string into day, month, year\n",
    "    day, month, year = date_str.split('/')\n",
    "    # Convert to integers\n",
    "    day, month, year = int(day), int(month), int(year)\n",
    "    # Calculate the number of days since 1st January 1995\n",
    "    days_since_1995 = (pd.Timestamp(year, month, day) - pd.Timestamp('1995-01-01')).days\n",
    "    return days_since_1995"
   ]
  },
  {
   "cell_type": "markdown",
   "id": "2b2159af",
   "metadata": {},
   "source": [
    "## Create a new column 'days' from the deed_date column"
   ]
  },
  {
   "cell_type": "code",
   "execution_count": 20,
   "id": "3d6d0e6e",
   "metadata": {},
   "outputs": [],
   "source": [
    "# Create a new column called 'days' and use the 'days_since_1995' function to convert the date in the deed_date column\n",
    "df['days'] = df['deed_date'].apply(days_since_1995)"
   ]
  },
  {
   "cell_type": "code",
   "execution_count": 21,
   "id": "d80692a2",
   "metadata": {},
   "outputs": [
    {
     "data": {
      "text/html": [
       "<div>\n",
       "<style scoped>\n",
       "    .dataframe tbody tr th:only-of-type {\n",
       "        vertical-align: middle;\n",
       "    }\n",
       "\n",
       "    .dataframe tbody tr th {\n",
       "        vertical-align: top;\n",
       "    }\n",
       "\n",
       "    .dataframe thead th {\n",
       "        text-align: right;\n",
       "    }\n",
       "</style>\n",
       "<table border=\"1\" class=\"dataframe\">\n",
       "  <thead>\n",
       "    <tr style=\"text-align: right;\">\n",
       "      <th></th>\n",
       "      <th>price_paid</th>\n",
       "      <th>deed_date</th>\n",
       "      <th>property_type</th>\n",
       "      <th>new_build</th>\n",
       "      <th>estate_type</th>\n",
       "      <th>transaction_category</th>\n",
       "      <th>PC</th>\n",
       "      <th>days</th>\n",
       "    </tr>\n",
       "  </thead>\n",
       "  <tbody>\n",
       "    <tr>\n",
       "      <th>0</th>\n",
       "      <td>54000</td>\n",
       "      <td>01/01/1995</td>\n",
       "      <td>T</td>\n",
       "      <td>0</td>\n",
       "      <td>1</td>\n",
       "      <td>1</td>\n",
       "      <td>297</td>\n",
       "      <td>0</td>\n",
       "    </tr>\n",
       "    <tr>\n",
       "      <th>1</th>\n",
       "      <td>37000</td>\n",
       "      <td>01/01/1995</td>\n",
       "      <td>S</td>\n",
       "      <td>0</td>\n",
       "      <td>1</td>\n",
       "      <td>1</td>\n",
       "      <td>315</td>\n",
       "      <td>0</td>\n",
       "    </tr>\n",
       "    <tr>\n",
       "      <th>2</th>\n",
       "      <td>165500</td>\n",
       "      <td>01/01/1995</td>\n",
       "      <td>D</td>\n",
       "      <td>0</td>\n",
       "      <td>1</td>\n",
       "      <td>1</td>\n",
       "      <td>458</td>\n",
       "      <td>0</td>\n",
       "    </tr>\n",
       "    <tr>\n",
       "      <th>3</th>\n",
       "      <td>24000</td>\n",
       "      <td>02/01/1995</td>\n",
       "      <td>T</td>\n",
       "      <td>0</td>\n",
       "      <td>1</td>\n",
       "      <td>1</td>\n",
       "      <td>295</td>\n",
       "      <td>1</td>\n",
       "    </tr>\n",
       "    <tr>\n",
       "      <th>4</th>\n",
       "      <td>33000</td>\n",
       "      <td>02/01/1995</td>\n",
       "      <td>T</td>\n",
       "      <td>0</td>\n",
       "      <td>1</td>\n",
       "      <td>1</td>\n",
       "      <td>448</td>\n",
       "      <td>1</td>\n",
       "    </tr>\n",
       "  </tbody>\n",
       "</table>\n",
       "</div>"
      ],
      "text/plain": [
       "   price_paid   deed_date property_type  new_build  estate_type  \\\n",
       "0       54000  01/01/1995             T          0            1   \n",
       "1       37000  01/01/1995             S          0            1   \n",
       "2      165500  01/01/1995             D          0            1   \n",
       "3       24000  02/01/1995             T          0            1   \n",
       "4       33000  02/01/1995             T          0            1   \n",
       "\n",
       "   transaction_category   PC  days  \n",
       "0                     1  297     0  \n",
       "1                     1  315     0  \n",
       "2                     1  458     0  \n",
       "3                     1  295     1  \n",
       "4                     1  448     1  "
      ]
     },
     "execution_count": 21,
     "metadata": {},
     "output_type": "execute_result"
    }
   ],
   "source": [
    "# Display the updated dataframe\n",
    "df.head()"
   ]
  },
  {
   "cell_type": "markdown",
   "id": "88e1c9f2",
   "metadata": {},
   "source": [
    "## Visualizing the property type, new build, estate type and transaction category in a bar chat"
   ]
  },
  {
   "cell_type": "code",
   "execution_count": 22,
   "id": "f47c3322",
   "metadata": {},
   "outputs": [],
   "source": [
    "import matplotlib.pyplot as plt\n",
    "from scipy import stats"
   ]
  },
  {
   "cell_type": "code",
   "execution_count": 23,
   "id": "0affcc08",
   "metadata": {},
   "outputs": [],
   "source": [
    "# Remove 'Other' property types\n",
    "df = df[df['property_type'] != 'O']"
   ]
  },
  {
   "cell_type": "code",
   "execution_count": 24,
   "id": "a49d94c3",
   "metadata": {},
   "outputs": [
    {
     "data": {
      "image/png": "[encoded data removed]",
      "text/plain": [
       "<Figure size 1200x800 with 4 Axes>"
      ]
     },
     "metadata": {},
     "output_type": "display_data"
    }
   ],
   "source": [
    "# Create bar charts\n",
    "fig, axs = plt.subplots(2, 2, figsize=(12, 8))\n",
    "\n",
    "df['property_type'].value_counts().plot(kind='bar', ax=axs[0, 0])\n",
    "axs[0, 0].set_title('Property Type')\n",
    "\n",
    "df['new_build'].value_counts().plot(kind='bar', ax=axs[0, 1])\n",
    "axs[0, 1].set_title('New Build')\n",
    "\n",
    "df['estate_type'].value_counts().plot(kind='bar', ax=axs[1, 0])\n",
    "axs[1, 0].set_title('Estate Type')\n",
    "\n",
    "df['transaction_category'].replace({'A': 1, 'B': 0}).value_counts().plot(kind='bar', ax=axs[1, 1])\n",
    "axs[1, 1].set_title('Transaction Category')\n",
    "\n",
    "plt.tight_layout()\n",
    "plt.show()"
   ]
  },
  {
   "cell_type": "markdown",
   "id": "11fdfb25",
   "metadata": {},
   "source": [
    "### <font color = 'red'>Most of the property sold are of type T and they are old building</font>"
   ]
  },
  {
   "cell_type": "markdown",
   "id": "b5cba35e",
   "metadata": {},
   "source": [
    "## Analysis and visualization of detached houses"
   ]
  },
  {
   "cell_type": "code",
   "execution_count": 25,
   "id": "60e14477",
   "metadata": {},
   "outputs": [
    {
     "data": {
      "text/html": [
       "<div>\n",
       "<style scoped>\n",
       "    .dataframe tbody tr th:only-of-type {\n",
       "        vertical-align: middle;\n",
       "    }\n",
       "\n",
       "    .dataframe tbody tr th {\n",
       "        vertical-align: top;\n",
       "    }\n",
       "\n",
       "    .dataframe thead th {\n",
       "        text-align: right;\n",
       "    }\n",
       "</style>\n",
       "<table border=\"1\" class=\"dataframe\">\n",
       "  <thead>\n",
       "    <tr style=\"text-align: right;\">\n",
       "      <th></th>\n",
       "      <th>price_paid</th>\n",
       "      <th>deed_date</th>\n",
       "      <th>property_type</th>\n",
       "      <th>new_build</th>\n",
       "      <th>estate_type</th>\n",
       "      <th>transaction_category</th>\n",
       "      <th>PC</th>\n",
       "      <th>days</th>\n",
       "    </tr>\n",
       "  </thead>\n",
       "  <tbody>\n",
       "    <tr>\n",
       "      <th>2</th>\n",
       "      <td>165500</td>\n",
       "      <td>01/01/1995</td>\n",
       "      <td>D</td>\n",
       "      <td>0</td>\n",
       "      <td>1</td>\n",
       "      <td>1</td>\n",
       "      <td>458</td>\n",
       "      <td>0</td>\n",
       "    </tr>\n",
       "    <tr>\n",
       "      <th>7</th>\n",
       "      <td>65000</td>\n",
       "      <td>03/01/1995</td>\n",
       "      <td>D</td>\n",
       "      <td>0</td>\n",
       "      <td>0</td>\n",
       "      <td>1</td>\n",
       "      <td>235</td>\n",
       "      <td>2</td>\n",
       "    </tr>\n",
       "    <tr>\n",
       "      <th>38</th>\n",
       "      <td>128500</td>\n",
       "      <td>05/01/1995</td>\n",
       "      <td>D</td>\n",
       "      <td>0</td>\n",
       "      <td>1</td>\n",
       "      <td>1</td>\n",
       "      <td>324</td>\n",
       "      <td>4</td>\n",
       "    </tr>\n",
       "    <tr>\n",
       "      <th>41</th>\n",
       "      <td>155000</td>\n",
       "      <td>05/01/1995</td>\n",
       "      <td>D</td>\n",
       "      <td>0</td>\n",
       "      <td>1</td>\n",
       "      <td>1</td>\n",
       "      <td>462</td>\n",
       "      <td>4</td>\n",
       "    </tr>\n",
       "    <tr>\n",
       "      <th>47</th>\n",
       "      <td>85000</td>\n",
       "      <td>06/01/1995</td>\n",
       "      <td>D</td>\n",
       "      <td>0</td>\n",
       "      <td>1</td>\n",
       "      <td>1</td>\n",
       "      <td>139</td>\n",
       "      <td>5</td>\n",
       "    </tr>\n",
       "  </tbody>\n",
       "</table>\n",
       "</div>"
      ],
      "text/plain": [
       "    price_paid   deed_date property_type  new_build  estate_type  \\\n",
       "2       165500  01/01/1995             D          0            1   \n",
       "7        65000  03/01/1995             D          0            0   \n",
       "38      128500  05/01/1995             D          0            1   \n",
       "41      155000  05/01/1995             D          0            1   \n",
       "47       85000  06/01/1995             D          0            1   \n",
       "\n",
       "    transaction_category   PC  days  \n",
       "2                      1  458     0  \n",
       "7                      1  235     2  \n",
       "38                     1  324     4  \n",
       "41                     1  462     4  \n",
       "47                     1  139     5  "
      ]
     },
     "execution_count": 25,
     "metadata": {},
     "output_type": "execute_result"
    }
   ],
   "source": [
    "# Filter out only detached houses\n",
    "detached = df[df['property_type'] == 'D']\n",
    "detached.head()"
   ]
  },
  {
   "cell_type": "code",
   "execution_count": 26,
   "id": "1691061b",
   "metadata": {},
   "outputs": [
    {
     "name": "stderr",
     "output_type": "stream",
     "text": [
      "C:\\Users\\Akinbiyi Akinpelu\\AppData\\Local\\Temp\\ipykernel_8944\\3849941602.py:2: SettingWithCopyWarning: \n",
      "A value is trying to be set on a copy of a slice from a DataFrame.\n",
      "Try using .loc[row_indexer,col_indexer] = value instead\n",
      "\n",
      "See the caveats in the documentation: https://pandas.pydata.org/pandas-docs/stable/user_guide/indexing.html#returning-a-view-versus-a-copy\n",
      "  detached['deed_date'] = pd.to_datetime(detached['deed_date'], format='%d/%m/%Y')\n"
     ]
    }
   ],
   "source": [
    "# Convert the deed_date column to a pandas datetime object\n",
    "detached['deed_date'] = pd.to_datetime(detached['deed_date'], format='%d/%m/%Y')"
   ]
  },
  {
   "cell_type": "code",
   "execution_count": 27,
   "id": "7f94716c",
   "metadata": {},
   "outputs": [],
   "source": [
    "# Define the start and end dates\n",
    "start_date = pd.to_datetime('01/01/1995', format='%d/%m/%Y')\n",
    "end_date = pd.to_datetime('31/12/2019', format='%d/%m/%Y')"
   ]
  },
  {
   "cell_type": "code",
   "execution_count": 28,
   "id": "e8039814",
   "metadata": {},
   "outputs": [],
   "source": [
    "# Calculate the number of sales of detached houses over each 365-day period\n",
    "sales_per_year = []\n",
    "midpoints = []\n",
    "for i in range(0, 9131, 365):\n",
    "    period_start = start_date + pd.Timedelta(i, 'D')\n",
    "    period_end = period_start + pd.Timedelta(365, 'D')\n",
    "    period_midpoint = period_start + pd.Timedelta(183, 'D')\n",
    "    period_sales = detached[(detached['deed_date'] >= period_start) & (detached['deed_date'] < period_end)]['transaction_category'].count()\n",
    "    sales_per_year.append(period_sales)\n",
    "    midpoints.append(period_midpoint)"
   ]
  },
  {
   "cell_type": "code",
   "execution_count": 29,
   "id": "7394d07e",
   "metadata": {},
   "outputs": [
    {
     "data": {
      "image/png": "[encoded data removed]",
      "text/plain": [
       "<Figure size 640x480 with 1 Axes>"
      ]
     },
     "metadata": {},
     "output_type": "display_data"
    }
   ],
   "source": [
    "# Create a scatter plot to show the relationship between the number of house sales and time\n",
    "plt.scatter(midpoints, sales_per_year)\n",
    "plt.xlabel('Time (days since 01/01/1995)')\n",
    "plt.ylabel('Number of sales of detached houses')\n",
    "plt.title('Number of sales of detached houses over time')\n",
    "plt.xlim([pd.to_datetime('01/01/1995', format='%d/%m/%Y'), pd.to_datetime('01/01/2020', format='%d/%m/%Y')])\n",
    "plt.ylim([0, max(sales_per_year) * 1.1])\n",
    "\n",
    "# Add a straight line of best fit\n",
    "slope, intercept, r_value, p_value, std_err = stats.linregress([x.toordinal() for x in midpoints], sales_per_year)\n",
    "plt.plot(midpoints, intercept + slope * np.array([x.toordinal() for x in midpoints]), 'r')\n",
    "\n",
    "# Show the plot\n",
    "plt.show()"
   ]
  },
  {
   "cell_type": "markdown",
   "id": "52d5daa9",
   "metadata": {},
   "source": [
    "### <font color = 'red'>The number of sales of detached houses flunctuate over the years and the line of best fit does not fully represent the sales pattern.</font> "
   ]
  },
  {
   "cell_type": "markdown",
   "id": "c224f1f5",
   "metadata": {},
   "source": [
    "## Analysis and visualization of mean price of detached houses "
   ]
  },
  {
   "cell_type": "code",
   "execution_count": 30,
   "id": "0e3a088e",
   "metadata": {},
   "outputs": [
    {
     "name": "stderr",
     "output_type": "stream",
     "text": [
      "C:\\Users\\Akinbiyi Akinpelu\\AppData\\Local\\Temp\\ipykernel_8944\\1654224468.py:6: FutureWarning: The frame.append method is deprecated and will be removed from pandas in a future version. Use pandas.concat instead.\n",
      "  mean_price_df = mean_price_df.append({'days': i, 'mean_price': mean_price}, ignore_index=True)\n",
      "C:\\Users\\Akinbiyi Akinpelu\\AppData\\Local\\Temp\\ipykernel_8944\\1654224468.py:6: FutureWarning: The frame.append method is deprecated and will be removed from pandas in a future version. Use pandas.concat instead.\n",
      "  mean_price_df = mean_price_df.append({'days': i, 'mean_price': mean_price}, ignore_index=True)\n",
      "C:\\Users\\Akinbiyi Akinpelu\\AppData\\Local\\Temp\\ipykernel_8944\\1654224468.py:6: FutureWarning: The frame.append method is deprecated and will be removed from pandas in a future version. Use pandas.concat instead.\n",
      "  mean_price_df = mean_price_df.append({'days': i, 'mean_price': mean_price}, ignore_index=True)\n",
      "C:\\Users\\Akinbiyi Akinpelu\\AppData\\Local\\Temp\\ipykernel_8944\\1654224468.py:6: FutureWarning: The frame.append method is deprecated and will be removed from pandas in a future version. Use pandas.concat instead.\n",
      "  mean_price_df = mean_price_df.append({'days': i, 'mean_price': mean_price}, ignore_index=True)\n",
      "C:\\Users\\Akinbiyi Akinpelu\\AppData\\Local\\Temp\\ipykernel_8944\\1654224468.py:6: FutureWarning: The frame.append method is deprecated and will be removed from pandas in a future version. Use pandas.concat instead.\n",
      "  mean_price_df = mean_price_df.append({'days': i, 'mean_price': mean_price}, ignore_index=True)\n",
      "C:\\Users\\Akinbiyi Akinpelu\\AppData\\Local\\Temp\\ipykernel_8944\\1654224468.py:6: FutureWarning: The frame.append method is deprecated and will be removed from pandas in a future version. Use pandas.concat instead.\n",
      "  mean_price_df = mean_price_df.append({'days': i, 'mean_price': mean_price}, ignore_index=True)\n",
      "C:\\Users\\Akinbiyi Akinpelu\\AppData\\Local\\Temp\\ipykernel_8944\\1654224468.py:6: FutureWarning: The frame.append method is deprecated and will be removed from pandas in a future version. Use pandas.concat instead.\n",
      "  mean_price_df = mean_price_df.append({'days': i, 'mean_price': mean_price}, ignore_index=True)\n",
      "C:\\Users\\Akinbiyi Akinpelu\\AppData\\Local\\Temp\\ipykernel_8944\\1654224468.py:6: FutureWarning: The frame.append method is deprecated and will be removed from pandas in a future version. Use pandas.concat instead.\n",
      "  mean_price_df = mean_price_df.append({'days': i, 'mean_price': mean_price}, ignore_index=True)\n",
      "C:\\Users\\Akinbiyi Akinpelu\\AppData\\Local\\Temp\\ipykernel_8944\\1654224468.py:6: FutureWarning: The frame.append method is deprecated and will be removed from pandas in a future version. Use pandas.concat instead.\n",
      "  mean_price_df = mean_price_df.append({'days': i, 'mean_price': mean_price}, ignore_index=True)\n",
      "C:\\Users\\Akinbiyi Akinpelu\\AppData\\Local\\Temp\\ipykernel_8944\\1654224468.py:6: FutureWarning: The frame.append method is deprecated and will be removed from pandas in a future version. Use pandas.concat instead.\n",
      "  mean_price_df = mean_price_df.append({'days': i, 'mean_price': mean_price}, ignore_index=True)\n",
      "C:\\Users\\Akinbiyi Akinpelu\\AppData\\Local\\Temp\\ipykernel_8944\\1654224468.py:6: FutureWarning: The frame.append method is deprecated and will be removed from pandas in a future version. Use pandas.concat instead.\n",
      "  mean_price_df = mean_price_df.append({'days': i, 'mean_price': mean_price}, ignore_index=True)\n",
      "C:\\Users\\Akinbiyi Akinpelu\\AppData\\Local\\Temp\\ipykernel_8944\\1654224468.py:6: FutureWarning: The frame.append method is deprecated and will be removed from pandas in a future version. Use pandas.concat instead.\n",
      "  mean_price_df = mean_price_df.append({'days': i, 'mean_price': mean_price}, ignore_index=True)\n",
      "C:\\Users\\Akinbiyi Akinpelu\\AppData\\Local\\Temp\\ipykernel_8944\\1654224468.py:6: FutureWarning: The frame.append method is deprecated and will be removed from pandas in a future version. Use pandas.concat instead.\n",
      "  mean_price_df = mean_price_df.append({'days': i, 'mean_price': mean_price}, ignore_index=True)\n",
      "C:\\Users\\Akinbiyi Akinpelu\\AppData\\Local\\Temp\\ipykernel_8944\\1654224468.py:6: FutureWarning: The frame.append method is deprecated and will be removed from pandas in a future version. Use pandas.concat instead.\n",
      "  mean_price_df = mean_price_df.append({'days': i, 'mean_price': mean_price}, ignore_index=True)\n",
      "C:\\Users\\Akinbiyi Akinpelu\\AppData\\Local\\Temp\\ipykernel_8944\\1654224468.py:6: FutureWarning: The frame.append method is deprecated and will be removed from pandas in a future version. Use pandas.concat instead.\n",
      "  mean_price_df = mean_price_df.append({'days': i, 'mean_price': mean_price}, ignore_index=True)\n",
      "C:\\Users\\Akinbiyi Akinpelu\\AppData\\Local\\Temp\\ipykernel_8944\\1654224468.py:6: FutureWarning: The frame.append method is deprecated and will be removed from pandas in a future version. Use pandas.concat instead.\n",
      "  mean_price_df = mean_price_df.append({'days': i, 'mean_price': mean_price}, ignore_index=True)\n",
      "C:\\Users\\Akinbiyi Akinpelu\\AppData\\Local\\Temp\\ipykernel_8944\\1654224468.py:6: FutureWarning: The frame.append method is deprecated and will be removed from pandas in a future version. Use pandas.concat instead.\n",
      "  mean_price_df = mean_price_df.append({'days': i, 'mean_price': mean_price}, ignore_index=True)\n",
      "C:\\Users\\Akinbiyi Akinpelu\\AppData\\Local\\Temp\\ipykernel_8944\\1654224468.py:6: FutureWarning: The frame.append method is deprecated and will be removed from pandas in a future version. Use pandas.concat instead.\n",
      "  mean_price_df = mean_price_df.append({'days': i, 'mean_price': mean_price}, ignore_index=True)\n",
      "C:\\Users\\Akinbiyi Akinpelu\\AppData\\Local\\Temp\\ipykernel_8944\\1654224468.py:6: FutureWarning: The frame.append method is deprecated and will be removed from pandas in a future version. Use pandas.concat instead.\n",
      "  mean_price_df = mean_price_df.append({'days': i, 'mean_price': mean_price}, ignore_index=True)\n",
      "C:\\Users\\Akinbiyi Akinpelu\\AppData\\Local\\Temp\\ipykernel_8944\\1654224468.py:6: FutureWarning: The frame.append method is deprecated and will be removed from pandas in a future version. Use pandas.concat instead.\n",
      "  mean_price_df = mean_price_df.append({'days': i, 'mean_price': mean_price}, ignore_index=True)\n",
      "C:\\Users\\Akinbiyi Akinpelu\\AppData\\Local\\Temp\\ipykernel_8944\\1654224468.py:6: FutureWarning: The frame.append method is deprecated and will be removed from pandas in a future version. Use pandas.concat instead.\n",
      "  mean_price_df = mean_price_df.append({'days': i, 'mean_price': mean_price}, ignore_index=True)\n",
      "C:\\Users\\Akinbiyi Akinpelu\\AppData\\Local\\Temp\\ipykernel_8944\\1654224468.py:6: FutureWarning: The frame.append method is deprecated and will be removed from pandas in a future version. Use pandas.concat instead.\n",
      "  mean_price_df = mean_price_df.append({'days': i, 'mean_price': mean_price}, ignore_index=True)\n",
      "C:\\Users\\Akinbiyi Akinpelu\\AppData\\Local\\Temp\\ipykernel_8944\\1654224468.py:6: FutureWarning: The frame.append method is deprecated and will be removed from pandas in a future version. Use pandas.concat instead.\n",
      "  mean_price_df = mean_price_df.append({'days': i, 'mean_price': mean_price}, ignore_index=True)\n",
      "C:\\Users\\Akinbiyi Akinpelu\\AppData\\Local\\Temp\\ipykernel_8944\\1654224468.py:6: FutureWarning: The frame.append method is deprecated and will be removed from pandas in a future version. Use pandas.concat instead.\n",
      "  mean_price_df = mean_price_df.append({'days': i, 'mean_price': mean_price}, ignore_index=True)\n",
      "C:\\Users\\Akinbiyi Akinpelu\\AppData\\Local\\Temp\\ipykernel_8944\\1654224468.py:6: FutureWarning: The frame.append method is deprecated and will be removed from pandas in a future version. Use pandas.concat instead.\n",
      "  mean_price_df = mean_price_df.append({'days': i, 'mean_price': mean_price}, ignore_index=True)\n"
     ]
    }
   ],
   "source": [
    "# Calculate the mean price for a detached house in each 365 day period\n",
    "mean_price_df = pd.DataFrame(columns=['days', 'mean_price'])\n",
    "for i in range(183, 9125, 365):\n",
    "    prices = detached[(detached['days'] >= i - 183) & (detached['days'] < i + 182)]['price_paid']\n",
    "    mean_price = prices.mean()\n",
    "    mean_price_df = mean_price_df.append({'days': i, 'mean_price': mean_price}, ignore_index=True)"
   ]
  },
  {
   "cell_type": "code",
   "execution_count": 31,
   "id": "ec5cc3fb",
   "metadata": {},
   "outputs": [
    {
     "data": {
      "image/png": "[encoded data removed]",
      "text/plain": [
       "<Figure size 640x480 with 1 Axes>"
      ]
     },
     "metadata": {},
     "output_type": "display_data"
    }
   ],
   "source": [
    "# Plot a scatter plot showing the relationship between the mean house price and n\n",
    "x = mean_price_df['days']\n",
    "y = mean_price_df['mean_price']\n",
    "plt.scatter(x, y);"
   ]
  },
  {
   "cell_type": "markdown",
   "id": "b31e3cf4",
   "metadata": {},
   "source": [
    "### <font color ='red'>The mean price of detached houses increases over the time</font>"
   ]
  },
  {
   "cell_type": "code",
   "execution_count": 32,
   "id": "85334264",
   "metadata": {},
   "outputs": [
    {
     "data": {
      "image/png": "[encoded data removed]",
      "text/plain": [
       "<Figure size 640x480 with 1 Axes>"
      ]
     },
     "metadata": {},
     "output_type": "display_data"
    }
   ],
   "source": [
    "from sklearn.linear_model import LinearRegression\n",
    "# Fit a line of best fit\n",
    "model = LinearRegression()\n",
    "model.fit(x.values.reshape(-1, 1), y.values.reshape(-1, 1))\n",
    "m = model.coef_[0][0]\n",
    "b = model.intercept_[0]\n",
    "plt.plot(x, m*x + b, color='red');"
   ]
  },
  {
   "cell_type": "code",
   "execution_count": 33,
   "id": "15e8c81e",
   "metadata": {},
   "outputs": [
    {
     "name": "stdout",
     "output_type": "stream",
     "text": [
      "R-squared: 0.8936702905079335\n"
     ]
    }
   ],
   "source": [
    "# Evaluate how well the line fits the data\n",
    "r_squared = model.score(x.values.reshape(-1, 1), y.values.reshape(-1, 1))\n",
    "print('R-squared:', r_squared)"
   ]
  },
  {
   "cell_type": "markdown",
   "id": "b518bb1a",
   "metadata": {},
   "source": [
    "### <font color ='red'>There is a positive linear relationship between the mean price of detached houses and days with R-squared of 0.8937</font>"
   ]
  },
  {
   "cell_type": "markdown",
   "id": "a33b51b3",
   "metadata": {},
   "source": [
    "## Normalizing the price paid for the detached houses using the line of best fit"
   ]
  },
  {
   "cell_type": "code",
   "execution_count": 34,
   "id": "bcd59333",
   "metadata": {},
   "outputs": [
    {
     "name": "stderr",
     "output_type": "stream",
     "text": [
      "C:\\Users\\Akinbiyi Akinpelu\\AppData\\Local\\Temp\\ipykernel_8944\\3771399136.py:2: SettingWithCopyWarning: \n",
      "A value is trying to be set on a copy of a slice from a DataFrame.\n",
      "Try using .loc[row_indexer,col_indexer] = value instead\n",
      "\n",
      "See the caveats in the documentation: https://pandas.pydata.org/pandas-docs/stable/user_guide/indexing.html#returning-a-view-versus-a-copy\n",
      "  detached['normalized_price'] = (detached['price_paid'] - y.mean()) / y.std()\n"
     ]
    }
   ],
   "source": [
    "# Normalize the price paid data in the detached houses dataframe using the line of best fit\n",
    "detached['normalized_price'] = (detached['price_paid'] - y.mean()) / y.std()"
   ]
  },
  {
   "cell_type": "code",
   "execution_count": 35,
   "id": "d887afa6",
   "metadata": {},
   "outputs": [
    {
     "data": {
      "text/html": [
       "<div>\n",
       "<style scoped>\n",
       "    .dataframe tbody tr th:only-of-type {\n",
       "        vertical-align: middle;\n",
       "    }\n",
       "\n",
       "    .dataframe tbody tr th {\n",
       "        vertical-align: top;\n",
       "    }\n",
       "\n",
       "    .dataframe thead th {\n",
       "        text-align: right;\n",
       "    }\n",
       "</style>\n",
       "<table border=\"1\" class=\"dataframe\">\n",
       "  <thead>\n",
       "    <tr style=\"text-align: right;\">\n",
       "      <th></th>\n",
       "      <th>price_paid</th>\n",
       "      <th>deed_date</th>\n",
       "      <th>property_type</th>\n",
       "      <th>new_build</th>\n",
       "      <th>estate_type</th>\n",
       "      <th>transaction_category</th>\n",
       "      <th>PC</th>\n",
       "      <th>days</th>\n",
       "      <th>normalized_price</th>\n",
       "    </tr>\n",
       "  </thead>\n",
       "  <tbody>\n",
       "    <tr>\n",
       "      <th>2</th>\n",
       "      <td>165500</td>\n",
       "      <td>1995-01-01</td>\n",
       "      <td>D</td>\n",
       "      <td>0</td>\n",
       "      <td>1</td>\n",
       "      <td>1</td>\n",
       "      <td>458</td>\n",
       "      <td>0</td>\n",
       "      <td>-1.011297</td>\n",
       "    </tr>\n",
       "    <tr>\n",
       "      <th>7</th>\n",
       "      <td>65000</td>\n",
       "      <td>1995-01-03</td>\n",
       "      <td>D</td>\n",
       "      <td>0</td>\n",
       "      <td>0</td>\n",
       "      <td>1</td>\n",
       "      <td>235</td>\n",
       "      <td>2</td>\n",
       "      <td>-2.114248</td>\n",
       "    </tr>\n",
       "    <tr>\n",
       "      <th>38</th>\n",
       "      <td>128500</td>\n",
       "      <td>1995-01-05</td>\n",
       "      <td>D</td>\n",
       "      <td>0</td>\n",
       "      <td>1</td>\n",
       "      <td>1</td>\n",
       "      <td>324</td>\n",
       "      <td>4</td>\n",
       "      <td>-1.417359</td>\n",
       "    </tr>\n",
       "    <tr>\n",
       "      <th>41</th>\n",
       "      <td>155000</td>\n",
       "      <td>1995-01-05</td>\n",
       "      <td>D</td>\n",
       "      <td>0</td>\n",
       "      <td>1</td>\n",
       "      <td>1</td>\n",
       "      <td>462</td>\n",
       "      <td>4</td>\n",
       "      <td>-1.126531</td>\n",
       "    </tr>\n",
       "    <tr>\n",
       "      <th>47</th>\n",
       "      <td>85000</td>\n",
       "      <td>1995-01-06</td>\n",
       "      <td>D</td>\n",
       "      <td>0</td>\n",
       "      <td>1</td>\n",
       "      <td>1</td>\n",
       "      <td>139</td>\n",
       "      <td>5</td>\n",
       "      <td>-1.894755</td>\n",
       "    </tr>\n",
       "  </tbody>\n",
       "</table>\n",
       "</div>"
      ],
      "text/plain": [
       "    price_paid  deed_date property_type  new_build  estate_type  \\\n",
       "2       165500 1995-01-01             D          0            1   \n",
       "7        65000 1995-01-03             D          0            0   \n",
       "38      128500 1995-01-05             D          0            1   \n",
       "41      155000 1995-01-05             D          0            1   \n",
       "47       85000 1995-01-06             D          0            1   \n",
       "\n",
       "    transaction_category   PC  days  normalized_price  \n",
       "2                      1  458     0         -1.011297  \n",
       "7                      1  235     2         -2.114248  \n",
       "38                     1  324     4         -1.417359  \n",
       "41                     1  462     4         -1.126531  \n",
       "47                     1  139     5         -1.894755  "
      ]
     },
     "execution_count": 35,
     "metadata": {},
     "output_type": "execute_result"
    }
   ],
   "source": [
    "detached.head()"
   ]
  },
  {
   "cell_type": "code",
   "execution_count": 36,
   "id": "1766560c",
   "metadata": {},
   "outputs": [
    {
     "data": {
      "text/html": [
       "<div>\n",
       "<style scoped>\n",
       "    .dataframe tbody tr th:only-of-type {\n",
       "        vertical-align: middle;\n",
       "    }\n",
       "\n",
       "    .dataframe tbody tr th {\n",
       "        vertical-align: top;\n",
       "    }\n",
       "\n",
       "    .dataframe thead th {\n",
       "        text-align: right;\n",
       "    }\n",
       "</style>\n",
       "<table border=\"1\" class=\"dataframe\">\n",
       "  <thead>\n",
       "    <tr style=\"text-align: right;\">\n",
       "      <th></th>\n",
       "      <th>PC</th>\n",
       "      <th>normalized_price</th>\n",
       "    </tr>\n",
       "  </thead>\n",
       "  <tbody>\n",
       "    <tr>\n",
       "      <th>0</th>\n",
       "      <td>100</td>\n",
       "      <td>-0.807818</td>\n",
       "    </tr>\n",
       "    <tr>\n",
       "      <th>1</th>\n",
       "      <td>109</td>\n",
       "      <td>-1.268848</td>\n",
       "    </tr>\n",
       "    <tr>\n",
       "      <th>2</th>\n",
       "      <td>11</td>\n",
       "      <td>-0.245817</td>\n",
       "    </tr>\n",
       "    <tr>\n",
       "      <th>3</th>\n",
       "      <td>111</td>\n",
       "      <td>-1.060720</td>\n",
       "    </tr>\n",
       "    <tr>\n",
       "      <th>4</th>\n",
       "      <td>112</td>\n",
       "      <td>-1.444472</td>\n",
       "    </tr>\n",
       "  </tbody>\n",
       "</table>\n",
       "</div>"
      ],
      "text/plain": [
       "    PC  normalized_price\n",
       "0  100         -0.807818\n",
       "1  109         -1.268848\n",
       "2   11         -0.245817\n",
       "3  111         -1.060720\n",
       "4  112         -1.444472"
      ]
     },
     "execution_count": 36,
     "metadata": {},
     "output_type": "execute_result"
    }
   ],
   "source": [
    "# Calculate mean normalized price paid data for each PC\n",
    "normalized_price_data = detached.groupby('PC')['normalized_price'].mean().reset_index()\n",
    "normalized_price_data.head()"
   ]
  },
  {
   "cell_type": "code",
   "execution_count": 37,
   "id": "48a14ed5",
   "metadata": {},
   "outputs": [],
   "source": [
    "# Sort the data by normalized price in descending order\n",
    "sorted_data = normalized_price_data.sort_values(by='normalized_price', ascending=False)"
   ]
  },
  {
   "cell_type": "code",
   "execution_count": 38,
   "id": "64d87421",
   "metadata": {},
   "outputs": [],
   "source": [
    "# Get the top 10 PC's with the highest normalized price\n",
    "top_10_pc = sorted_data.head(10)"
   ]
  },
  {
   "cell_type": "code",
   "execution_count": 39,
   "id": "a21c08e8",
   "metadata": {},
   "outputs": [
    {
     "name": "stdout",
     "output_type": "stream",
     "text": [
      "      PC  normalized_price\n",
      "19   151          4.264580\n",
      "20   152          3.341464\n",
      "21   153          3.107760\n",
      "99   458          1.828477\n",
      "26   178          1.601782\n",
      "13   138          1.183729\n",
      "59   297          1.112395\n",
      "27   179          1.107570\n",
      "104   47          1.050104\n",
      "102  462          0.957219\n"
     ]
    }
   ],
   "source": [
    "print(top_10_pc)"
   ]
  },
  {
   "cell_type": "markdown",
   "id": "297fff19",
   "metadata": {},
   "source": [
    "## Inference\n",
    "\n",
    "- <font color= 'red'>The initial dataset contain 370,974 rows and 14 columns was reduced to 366,681 rows 7 columns after cleaning.</font>\n",
    "- <font color= 'red'>Most of the property sold are of type T and they are old buildings.</font>\n",
    "- <font color= 'red'>The number of sales of detached houses flunctuate over the years and the line of best fit does not fully represent the sales pattern.</font>\n",
    "- <font color= 'red'>The mean price of detached houses increases over the time.</font>\n",
    "- <font color= 'red'>There is a positive linear relationship between the mean price of detached houses and days with R-squared of 0.8937.</font>"
   ]
  },
  {
   "cell_type": "code",
   "execution_count": null,
   "id": "0962e56f",
   "metadata": {},
   "outputs": [],
   "source": []
  }
 ],
 "metadata": {
  "kernelspec": {
   "display_name": "Python 3 (ipykernel)",
   "language": "python",
   "name": "python3"
  },
  "language_info": {
   "codemirror_mode": {
    "name": "ipython",
    "version": 3
   },
   "file_extension": ".py",
   "mimetype": "text/x-python",
   "name": "python",
   "nbconvert_exporter": "python",
   "pygments_lexer": "ipython3",
   "version": "3.9.13"
  }
 },
 "nbformat": 4,
 "nbformat_minor": 5
}
